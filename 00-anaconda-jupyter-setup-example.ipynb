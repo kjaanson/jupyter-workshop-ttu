{
 "cells": [
  {
   "cell_type": "code",
   "execution_count": 1,
   "metadata": {},
   "outputs": [
    {
     "name": "stdout",
     "output_type": "stream",
     "text": [
      "heia heia hoo\n"
     ]
    }
   ],
   "source": [
    "print('heia heia hoo')"
   ]
  },
  {
   "cell_type": "code",
   "execution_count": 2,
   "metadata": {},
   "outputs": [
    {
     "data": {
      "text/plain": [
       "5"
      ]
     },
     "execution_count": 2,
     "metadata": {},
     "output_type": "execute_result"
    }
   ],
   "source": [
    "2+3"
   ]
  },
  {
   "cell_type": "markdown",
   "metadata": {},
   "source": [
    "## See on pealkiri\n",
    "\n",
    "Siin on tekst\n",
    "\n",
    "*Siin on kald tekst*\n",
    "\n",
    "[Siin on link Markdown-i juhendile](https://help.github.com/articles/basic-writing-and-formatting-syntax/)\n",
    "\n",
    "### Siin on väiksem pealkiri\n",
    "\n",
    "Võimalik on kirjutada ka LaTex valemeid\n",
    "$$\n",
    "\\begin{align}\n",
    "x = \\sigma(y-x) \\\\\n",
    "y = \\rho x - y - xz \\\\\n",
    "z = -\\beta z + xy\n",
    "\\end{align}\n",
    "$$"
   ]
  },
  {
   "cell_type": "code",
   "execution_count": null,
   "metadata": {
    "collapsed": true
   },
   "outputs": [],
   "source": []
  }
 ],
 "metadata": {
  "kernelspec": {
   "display_name": "Python [default]",
   "language": "python",
   "name": "python3"
  },
  "language_info": {
   "codemirror_mode": {
    "name": "ipython",
    "version": 3
   },
   "file_extension": ".py",
   "mimetype": "text/x-python",
   "name": "python",
   "nbconvert_exporter": "python",
   "pygments_lexer": "ipython3",
   "version": "3.5.3"
  }
 },
 "nbformat": 4,
 "nbformat_minor": 2
}
