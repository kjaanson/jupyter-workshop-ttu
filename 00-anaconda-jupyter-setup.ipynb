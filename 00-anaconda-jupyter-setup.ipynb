{
 "cells": [
  {
   "cell_type": "markdown",
   "metadata": {},
   "source": [
    "# Mis on Jupyter / Jupyter Notebook?\n",
    "\n",
    "  * Interaktiivne Pythoni (ja teiste programeerimis keelte programeerimise keskkond).\n",
    "  * Põhirõhk on lihtsal eksperimenteerimisel ja katsetamisel. Samuti sellel et hiljem jääks katsetustest jälg.\n",
    "  * Lisaks Pythonile toetab ka muid programeerimiskeeli mida võiks vaja minna andmeanalüüsis..."
   ]
  },
  {
   "cell_type": "markdown",
   "metadata": {},
   "source": [
    "# Mida proovin tutvustada?\n",
    "  * [Jupyter notebook](http://jupyter.org) keskkonda üldiselt\n",
    "  * (Üli)natukene Pythonit\n",
    "  * [Pandas](http://pandas.pydata.org/) teeki andmeanalüüsiks Pythonis/Jupyter notebookis."
   ]
  },
  {
   "cell_type": "markdown",
   "metadata": {},
   "source": [
    "# Mida installida?\n",
    "Kõige lihtsam võimalus Pythoni ja Jupyteri installimiseks on tõmmata Anaconda Pythoni installer. Sellega tulevad kaasa kõik vajalikud teegid ja programmid (Jupyter notebook ja Pandas).\n",
    "\n",
    "  * [Anaconda](https://www.continuum.io/downloads) - Kindlasti tõmmata alla Python 3.6 Anaconda installer!"
   ]
  },
  {
   "cell_type": "markdown",
   "metadata": {},
   "source": [
    "# Jupyter notebook-i tutvustus"
   ]
  },
  {
   "cell_type": "markdown",
   "metadata": {},
   "source": [
    "![Example Jupyter Notebook](fig/00_0_zika_rnaseq_pipeline.png)  \n",
    "*[Jupyter vihik näidis Zika viiruse RNASeq-i analüüsiga](https://github.com/MaayanLab/Zika-RNAseq-Pipeline/blob/master/Zika.ipynb)*\n",
    "*Artikkel [Wang et al. 2016](https://f1000research.com/articles/5-1574/v1)*\n"
   ]
  },
  {
   "cell_type": "markdown",
   "metadata": {},
   "source": [
    "### Jupyter notebook\n",
    "\n",
    "Jupyter-i Notebooki saab käivitada Start menüüst otsides seda nime järgi.\n",
    "\n",
    "* Käivitub Jupyteri Notebook-i server lokaalses masinas.\n",
    "* Automaatselt avatakse browseris ka Jupyteri Notebook ise.\n",
    "\n",
    "Tavaliselt avaneb Jupyter-i Notebook kõigepealt kasutaja kodukataloogis. Töö jaoks saab luua paremalt `New` menüüst eraldi kataloogi endale.`\n",
    "\n",
    "  ![Jupyter notebook file browser](fig/00_1_jupyter_file_browser.png)  \n",
    "  *Jupyter-i vihikute töökataloog*"
   ]
  },
  {
   "cell_type": "markdown",
   "metadata": {},
   "source": [
    "Et luua uus vihik vali paremalt ülevalt \"New\" menüüst \"Python 3\"\n",
    "\n",
    "  ![Jupyter notebook file browser](fig/00_2_jupyter_new_notebook.png)  \n",
    "  *Jupyter-i vihikute töökataloog*"
   ]
  },
  {
   "cell_type": "markdown",
   "metadata": {},
   "source": [
    "Uus tühi vihik näeb välja selline. Vihik on jaotatud erinevateks koodi ja Markdown-i teksti lahtriteks. Vastavalt lahtrile Jupyter kas jooksutab koodi ja kuvab selle tulemusi või siis muudab Markdownis kirjutatu browseris vormindatud tekstiks. \n",
    "\n",
    "  ![new Jupyter notebook](fig/00_3_jupyter_blank_notebook.png)  \n",
    "  *Uus tühi Jupyter-i Pythoni vihik*"
   ]
  },
  {
   "cell_type": "markdown",
   "metadata": {},
   "source": [
    "\"Help\" menüü all on abimaterjalid nii Jupyter notebook-i enda kui ka erinevate Pythoni teekide jaoks (Scipy, Pandas jne.)\n",
    "\n",
    "  ![Jupyter help](fig/00_4_jupyter_tour_help.png)  \n",
    "  *Abimaterjalid*"
   ]
  },
  {
   "cell_type": "markdown",
   "metadata": {},
   "source": [
    "## Töötamine Jupyter-i vihikuga\n",
    "\n",
    "Töö Jupyteri vihikus käib lahtri (*cell*) kaupa. Lahtreid võib olla mitut tüüpi. Tähtsamad neist on:\n",
    "  * Koodi lahter (*Code cell*) - Nendesse lahtritesse kirjutataks Pythoni koodi mida siis hiljem saab analüüsi kordamisel uuesti läbi jooksutada lahter lahtri kaupa.\n",
    "  * Markdown lahter (*Markdown cell*) - Lahtrid kuhu saab kirjutada Markdown vormingus teksti et oma koodi/analüüsi mõtestada."
   ]
  },
  {
   "cell_type": "markdown",
   "metadata": {},
   "source": [
    "## Koodi lahter (*Code cell*)\n",
    "![Code cell](fig/00_7_jupyter_code_before.png)  \n",
    "  *Koodi lahter*"
   ]
  },
  {
   "cell_type": "markdown",
   "metadata": {},
   "source": [
    "Koodi lahtrisse kirjutatud koodi jooksutamiseks tuleb aktiivses lahtris vajutada `Shift-Enter`. Peale seda kuvatakse selle alla jooksutatud koodi väljund (kui seda on) ja tekitatakse uus koodi lahter. Teiste nupukombinatsioonidega saab koodi lahtrit lihtsalt jooksutada (`Ctrl-Enter`).\n",
    "  * `Shift-Enter` - Jooksutab koodi ja loob selle alla uue lahtri\n",
    "  * `Ctrl-Enter` - Jooksutab koodi kuid ei loo uut lahtrit\n",
    "\n",
    "Number koodilahtri kõrval näitab jooksutatud koodi järjekorda. Liikudes mitme koodilahtri vahet ja katsetades asju on selle järgi hea vaadata millist koodi on juba jooksutatud.\n",
    "\n",
    "  ![Koodi lahter](fig/00_8_jupyter_code_after.png)  \n",
    "  *Jooksutatud koodi lahter*"
   ]
  },
  {
   "cell_type": "markdown",
   "metadata": {},
   "source": [
    "Number koodilahtri kõrval näitab jooksutatud koodi järjekorda. Liikudes mitme koodilahtri vahet ja katsetades asju on selle järgi hea vaadata millist koodi on juba jooksutatud.\n",
    "\n",
    "  ![Koodi lahter](fig/00_9_jupyter_code_after2.png)  \n",
    "  *Jooksutatud koodi lahtrid*"
   ]
  },
  {
   "cell_type": "markdown",
   "metadata": {},
   "source": [
    "## Teksti lahter (*Markdown* cell)\n",
    "\n",
    "*Markdown* on teksti vormindamise keel mis on samal ajal ka lihtsalt loetav. Et muuta lahtrit *Markdown* lahtriks tuleb see valida \"Cell Type\" menüüst.\n",
    "\n",
    "  ![markdown input cell](fig/00_10_jupyter_markdown_before.png)  \n",
    "  *Markdown lahter teksti kirjutamisel*"
   ]
  },
  {
   "cell_type": "markdown",
   "metadata": {},
   "source": [
    "Et kuvada kirjutatud Markdown koodi siis vajutada jällegi `Shift-Enter`\n",
    "\n",
    "  ![Renderdatud Markdown lahter](fig/00_11_jupyter_markdown_after.png)  \n",
    "  *Kuvatud Markdowni lahter*"
   ]
  },
  {
   "cell_type": "markdown",
   "metadata": {},
   "source": [
    "## Markdown-i kirjutamine\n",
    "\n",
    "Täpsema juhendi Markdown-is vormindamise jaoks saab leida lingilt https://help.github.com/articles/basic-writing-and-formatting-syntax/\n",
    "\n",
    "Näiteks teksti stiilide muutmine käib nii:\n",
    "\n",
    "![Markdown text styling](fig/00_12_jupyter_markdown_styling_text.png)\n",
    "\n",
    "Nimekirjade tegemine käib nii:\n",
    "\n",
    "![Markdown lists](fig/00_13_jupyter_markdown_lists.png)"
   ]
  },
  {
   "cell_type": "markdown",
   "metadata": {},
   "source": [
    "Markdown-iga on võimalik sisestada ka lihtsamaid tabeleid. Tabelite tegemiseks läheb vaja tekst paigutada `|` ja `+` sümbolite vahele."
   ]
  },
  {
   "cell_type": "markdown",
   "metadata": {},
   "source": [
    "| Pealkiri      | Teine pealkiri|\n",
    "| ------------- | ------------- |\n",
    "| Sisu          | Sisu          |\n",
    "| Sisu          | Sisu          |"
   ]
  },
  {
   "cell_type": "markdown",
   "metadata": {},
   "source": [
    "Põhjalikuma juhendi leiab  https://help.github.com/articles/organizing-information-with-tables/ "
   ]
  },
  {
   "cell_type": "markdown",
   "metadata": {},
   "source": [
    "## MathJax-iga valemite kirjutamine"
   ]
  },
  {
   "cell_type": "markdown",
   "metadata": {},
   "source": [
    "Endale märkmeks linke siia et hiljem vihikut täiendada:\n",
    "  * https://stackoverflow.com/questions/13208286/how-to-write-latex-in-ipython-notebook\n",
    "  * http://jupyter-notebook.readthedocs.io/en/latest/examples/Notebook/Typesetting%20Equations.html\n",
    "  * http://data-blog.udacity.com/posts/2016/10/latex-primer/"
   ]
  },
  {
   "cell_type": "markdown",
   "metadata": {},
   "source": [
    "## Kokkuvõte\n",
    "\n",
    "Selliselt koodi ja teksti kirjutades on väga mugav üles ehitada analüüsi ja seda samal ajal dokumenteerida:\n",
    "\n",
    "- On lihtsasti võimalik kirjutada ja muuta koodi samal ajal eksperimenteerides sellega.\n",
    "- Markdowni kasutamine lubab andmeid, koodi ja analüüsi järeldusi kirja panna ja annoteerida et hilisem lugemine oleks arusaadavam (nii endal kui teistel).\n",
    "- Saab kaasa panna pilte, mis on tehtud analüüsi käigus.\n",
    "- Hiljem saab kirjutatud vihikut eksportida teistesse formaatidesse (vt `File->\"Download as\"`).\n",
    "- Python ei ole ainus keel millega vihikuid saab kirjutada. Võimalik on see näiteks ka R-iga (ja paljude teiste keeltega)."
   ]
  },
  {
   "cell_type": "markdown",
   "metadata": {},
   "source": [
    "### Veel näpunäiteid\n",
    "\n",
    "* Tervet vihikut otsast peale saab jooksutada menüüst `Kernel->Restart & Run All`\n",
    "* Koodi lahtrites tasub kirjutada nii, et see on ilusti ülevalt alla järjekorras. On väga lihtne juhtuma et eksperimenteerides hakkad sa kirjutama koodi vales järjekorras ja hiljem vihik ei jookse ilusti.\n",
    "* Lahtrite muutmisel on kaks erinevat olekut:\n",
    "\n",
    "    * `Edit mode` - Selle jooksul kirjutad sa tavaliselt lahtrisse koodi või teksti\n",
    "    * `Command mode` - Vajutades `Esc` nuppu minnakse aktiivses lahtris mode-i kus saab manipuleerida lahtritega kasutades erinevaid nupukombinatsioone.\n",
    "    \n",
    "    \n",
    "* Väga kasulikuks kiiremaks tööks tulevad erinevad Shortcut-id. Neid kõiki näeb menüüst `Help->Keyboard Shortcuts`. Mõned põhilisemad on:\n",
    "    * `Shift-Enter` - Jooksutab lahtri ja liigub järgmisesse lahtrisse\n",
    "    * `Ctrl-Enter` - Joosutab lahtri kuid jääb sama lahtri peale\n",
    "    * `Alt-enter` - Jooksutab lahtri ja loob uue tühja lahtri selle alla\n",
    "    * `Y` - Muudab lahtri Koodi lahtriks\n",
    "    * `M` - Muudab lahtri Markdown lahtriks\n",
    "    * `A` - Lisa lahter olemasoleva alla\n",
    "    * `B` - Lisa lahter olemasoleva kohale\n",
    "    * `D, D` - Kustuta parasjagu aktiivne lahter\n"
   ]
  },
  {
   "cell_type": "markdown",
   "metadata": {},
   "source": [
    "# Viited\n",
    "\n",
    "1. [Jupyter](http://jupyter.org/)\n",
    "2. [Anaconda Pythoni allalaadimine](https://www.anaconda.com/download/)\n",
    "3. [Gallery of Interesting Jupyter Notebooks](https://github.com/jupyter/jupyter/wiki/A-gallery-of-interesting-Jupyter-Notebooks#pandas-for-data-analysis)\n",
    "4. [Jupyter vihik näidis Zika viiruse RNASeq-i analüüsiga](https://github.com/MaayanLab/Zika-RNAseq-Pipeline/blob/master/Zika.ipynb)\n",
    "5. [Markdown teksti kirjutamise süntaks](https://help.github.com/articles/basic-writing-and-formatting-syntax/)\n",
    "6. [Nature-i artikkel IPythonist/Jupyter-ist](http://www.nature.com/news/interactive-notebooks-sharing-the-code-1.16261)"
   ]
  }
 ],
 "metadata": {
  "kernelspec": {
   "display_name": "Python 3",
   "language": "python",
   "name": "python3"
  },
  "language_info": {
   "codemirror_mode": {
    "name": "ipython",
    "version": 3
   },
   "file_extension": ".py",
   "mimetype": "text/x-python",
   "name": "python",
   "nbconvert_exporter": "python",
   "pygments_lexer": "ipython3",
   "version": "3.6.1"
  }
 },
 "nbformat": 4,
 "nbformat_minor": 2
}
