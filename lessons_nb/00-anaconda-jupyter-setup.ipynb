{
 "cells": [
  {
   "cell_type": "markdown",
   "metadata": {},
   "source": [
    "# Mis on Jupyter / Jupyter Notebook?\n",
    "\n",
    "  * Interaktiivne Pythoni (ja teiste programeerimis keelte programeerimise keskkond).\n",
    "  * Põhirõhk on lihtsal eksperimenteerimisel ja katsetamisel. Samuti sellel et hiljem jääks katsetustest jälg.\n",
    "  * Lisaks Pythonile toetab ka muid programeerimiskeeli mida võiks vaja minna andmeanalüüsis..."
   ]
  },
  {
   "cell_type": "markdown",
   "metadata": {},
   "source": [
    "# Mida proovin tutvustada?\n",
    "  * [Jupyter notebook](http://jupyter.org) keskkonda üldiselt\n",
    "  * (Üli)natukene Pythonit\n",
    "  * [Pandas](http://pandas.pydata.org/) teeki andmeanalüüsiks Pythonis/Jupyter notebookis."
   ]
  },
  {
   "cell_type": "markdown",
   "metadata": {},
   "source": [
    "# Mida installida?\n",
    "Kõige lihtsam võimalus Pythoni ja Jupyteri installimiseks on tõmmata Anaconda Pythoni installer. Sellega tulevad kaasa kõik vajalikud teegid ja programmid (Jupyter notebook ja Pandas).\n",
    "\n",
    "## Install\n",
    "Tõmmata alla ja installida [Anaconda](https://www.continuum.io/downloads). Kindlasti tõmmata alla Python 3.6 Anaconda installer!"
   ]
  },
  {
   "cell_type": "markdown",
   "metadata": {},
   "source": [
    "# Jupyter notebook-i tutvustus"
   ]
  },
  {
   "cell_type": "markdown",
   "metadata": {},
   "source": [
    "![Example Jupyter Notebook](../fig/00_0_jupyter_notebook_example.jpg)  \n",
    "*Screenshot of a [Jupyter Notebook on quantum mechanics](https://github.com/jrjohansson/qutip-lectures) by Robert Johansson*\n"
   ]
  },
  {
   "cell_type": "markdown",
   "metadata": {},
   "source": [
    "### How the Jupyter notebook works\n",
    "\n",
    "After typing the command `jupyter notebook`, the following happens:\n",
    "\n",
    "* A Jupyter Notebook server is automatically created on your local machine.\n",
    "* The Jupyter Notebook server runs locally on your machine only and does not\n",
    "  use an internet connection.\n",
    "* The Jupyter Notebook server opens the Jupyter notebook client, also known\n",
    "  as the notebook user interface, in your default web browser.\n",
    "\n",
    "  ![Jupyter notebook file browser](../fig/00_1_jupyter_file_browser.png)  \n",
    "  *The Jupyter notebook file browser*"
   ]
  },
  {
   "cell_type": "markdown",
   "metadata": {},
   "source": [
    "* To create a new Python notebook select the \"New\" dropdown on the upper\n",
    "  right of the screen.\n",
    "\n",
    "  ![Jupyter notebook file browser](../fig/00_2_jupyter_new_notebook.png)  \n",
    "  *The Jupyter notebook file browser*"
   ]
  },
  {
   "cell_type": "markdown",
   "metadata": {},
   "source": [
    "* When you can create a new notebook and type code into the browser, the web\n",
    "  browser and the Jupyter notebook server communicate with each other.\n",
    "\n",
    "  ![new Jupyter notebook](../fig/00_3_jupyter_blank_notebook.png)  \n",
    "  *A new, blank Jupyter notebook*"
   ]
  },
  {
   "cell_type": "markdown",
   "metadata": {},
   "source": [
    "* Under the \"help\" menu, take a quick interactive tour of how to\n",
    "  use the notebook. Help on Jupyter and key workshop packages is\n",
    "  available here too.\n",
    "\n",
    "  ![Jupyter tour and help](../fig/00_4_jupyter_tour_help.png)  \n",
    "  *User interface tour and Help*"
   ]
  },
  {
   "cell_type": "markdown",
   "metadata": {},
   "source": [
    "* The Jupyter Notebook server does the work and calculations, and the web\n",
    "  browser renders the notebook.\n",
    "* The web browser then displays the updated notebook to you.\n",
    "\n",
    "* For example, click in the first cell and type some Python code.\n",
    "\n",
    "  ![Code cell](../fig/00_5_jupyter_code_before.png)  \n",
    "  *A Code cell*"
   ]
  },
  {
   "cell_type": "markdown",
   "metadata": {},
   "source": [
    "* This is a **Code** cell (see the cell type dropdown with the word **Code**).\n",
    "  To run the cell, type Shift-Enter.\n",
    "\n",
    "  ![Code cell and its output](../fig/00_6_jupyter_code_after.png)  \n",
    "  *A Code cell and its output*"
   ]
  },
  {
   "cell_type": "markdown",
   "metadata": {},
   "source": [
    "* Let's look at a **Markdown** cell. Markdown is a text manipulation\n",
    "  language that is readable yet offers additional formatting. Don't forget\n",
    "  to select **Markdown** from the cell type dropdown. Click in the cell and\n",
    "  enter the markdown text.\n",
    "\n",
    "  ![markdown input cell](../fig/00_7_jupyter_markdown_before.png)  \n",
    "  *A markdown input cell*"
   ]
  },
  {
   "cell_type": "markdown",
   "metadata": {},
   "source": [
    "* To run the cell, type Shift-Enter.\n",
    "\n",
    "  ![rendered markdown cell](../fig/00_8_jupyter_markdown_after.png)  \n",
    "  *A rendered markdown cell*"
   ]
  },
  {
   "cell_type": "markdown",
   "metadata": {},
   "source": [
    "This workflow has several advantages:\n",
    "\n",
    "- You can easily type, edit, and copy and paste blocks of code.\n",
    "- Tab completion allows you to easily access the names of things you are using\n",
    "  and learn more about them.\n",
    "- It allows you to annotate your code with links, different sized text,\n",
    "  bullets, etc. to make information more accessible to you and your\n",
    "  collaborators.\n",
    "- It allows you to display figures next to the code that produces them\n",
    "  to tell a complete story of the analysis."
   ]
  },
  {
   "cell_type": "markdown",
   "metadata": {},
   "source": [
    "### How the notebook is stored\n",
    "\n",
    "* The notebook file is stored in a format called JSON and has the suffix\n",
    "  `.ipynb`.\n",
    "* Just like HTML for a webpage, what's saved in a notebook file looks\n",
    "  different from what you see in your browser.\n",
    "* But this format allows Jupyter to mix software (in several languages) with\n",
    "  documentation and graphics, all in one file."
   ]
  },
  {
   "cell_type": "markdown",
   "metadata": {},
   "source": [
    "### Help and more information\n",
    "\n",
    "Use the **Help** menu and its options when needed."
   ]
  },
  {
   "cell_type": "code",
   "execution_count": null,
   "metadata": {
    "collapsed": true
   },
   "outputs": [],
   "source": []
  }
 ],
 "metadata": {
  "kernelspec": {
   "display_name": "Python [default]",
   "language": "python",
   "name": "python3"
  },
  "language_info": {
   "codemirror_mode": {
    "name": "ipython",
    "version": 3
   },
   "file_extension": ".py",
   "mimetype": "text/x-python",
   "name": "python",
   "nbconvert_exporter": "python",
   "pygments_lexer": "ipython3",
   "version": "3.5.3"
  }
 },
 "nbformat": 4,
 "nbformat_minor": 2
}
