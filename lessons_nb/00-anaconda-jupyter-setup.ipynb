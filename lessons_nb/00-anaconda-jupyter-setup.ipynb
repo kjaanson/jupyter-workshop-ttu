{
 "cells": [
  {
   "cell_type": "markdown",
   "metadata": {},
   "source": [
    "# Mis on Jupyter / Jupyter Notebook?\n",
    "\n",
    "  * Interaktiivne Pythoni (ja teiste programeerimis keelte programeerimise keskkond).\n",
    "  * Põhirõhk on lihtsal eksperimenteerimisel ja katsetamisel. Samuti sellel et hiljem jääks katsetustest jälg.\n",
    "  * Lisaks Pythonile toetab ka muid programeerimiskeeli mida võiks vaja minna andmeanalüüsis..."
   ]
  },
  {
   "cell_type": "markdown",
   "metadata": {},
   "source": [
    "# Mida proovin tutvustada?\n",
    "  * [Jupyter notebook](http://jupyter.org) keskkonda üldiselt\n",
    "  * (Üli)natukene Pythonit\n",
    "  * [Pandas](http://pandas.pydata.org/) teeki andmeanalüüsiks Pythonis/Jupyter notebookis."
   ]
  },
  {
   "cell_type": "markdown",
   "metadata": {},
   "source": [
    "# Mida installida?\n",
    "Kõige lihtsam võimalus Pythoni ja Jupyteri installimiseks on tõmmata Anaconda Pythoni installer. Sellega tulevad kaasa kõik vajalikud teegid ja programmid (Jupyter notebook ja Pandas).\n",
    "\n",
    "## Install\n",
    "Tõmmata alla ja installida [Anaconda](https://www.continuum.io/downloads). Kindlasti tõmmata alla Python 3.6 Anaconda installer!"
   ]
  },
  {
   "cell_type": "code",
   "execution_count": null,
   "metadata": {
    "collapsed": true
   },
   "outputs": [],
   "source": []
  }
 ],
 "metadata": {
  "kernelspec": {
   "display_name": "Python [default]",
   "language": "python",
   "name": "python3"
  },
  "language_info": {
   "codemirror_mode": {
    "name": "ipython",
    "version": 3
   },
   "file_extension": ".py",
   "mimetype": "text/x-python",
   "name": "python",
   "nbconvert_exporter": "python",
   "pygments_lexer": "ipython3",
   "version": "3.5.3"
  }
 },
 "nbformat": 4,
 "nbformat_minor": 2
}
