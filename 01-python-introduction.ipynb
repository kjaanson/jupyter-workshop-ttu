{
 "cells": [
  {
   "cell_type": "markdown",
   "metadata": {},
   "source": [
    "# The Basics of Python\n",
    "\n",
    "Python is a general purpose programming language that supports rapid development\n",
    "of scripts and applications.\n",
    "\n",
    "Python on programeerimiskeel mis oma lihtsuse ja loetavusega on saanud väga populaarseks. Selle põhi eelised on:\n",
    "\n",
    "* Avatud lähekood\n",
    "* On olemas peaaegu kõigile operatsioonisüsteemidele (Windows, Linux, Mac)\n",
    "* Saab kasutada erinevate programeerimise stiilide puhul\n",
    "* On laialdaselt teeke ja programme"
   ]
  },
  {
   "cell_type": "markdown",
   "metadata": {},
   "source": [
    "## Pythoni muutujad ja andmetüübid, sissejuhatus\n",
    "\n",
    "https://docs.python.org/3/tutorial/introduction.html"
   ]
  },
  {
   "cell_type": "code",
   "execution_count": null,
   "metadata": {
    "collapsed": true
   },
   "outputs": [],
   "source": [
    "text = \"Data Carpentry\"   # tekst / stringid\n",
    "number = 42               # täisarvud / integerid\n",
    "pi_value = 3.1415         # komakohaga arvut / float-id"
   ]
  },
  {
   "cell_type": "markdown",
   "metadata": {},
   "source": [
    "Pythonis määratakse muutujatele väärtusi võrdus märgiga. Selle juures teksti määramisel tuleb tekst sisestada jutumärkide vahel."
   ]
  },
  {
   "cell_type": "markdown",
   "metadata": {},
   "source": [
    "Jupyteris saab hiljem muutujate väärtusi vaadata kirjutades muutuja nime ja siis jooksutades lahtrit."
   ]
  },
  {
   "cell_type": "code",
   "execution_count": null,
   "metadata": {},
   "outputs": [],
   "source": [
    "text"
   ]
  },
  {
   "cell_type": "markdown",
   "metadata": {},
   "source": [
    "Teksti puhul on võimalik alates Python 3.6-st kasutada ka formatitud teksti kus saab muutujaid otse teksti/stringi sisse sisestada. Selle jaoks tuleb sisse kirjutatava stringi ette panna `f` ja stringi sees muutuja nimi panna loogelistesse sulgudesse:"
   ]
  },
  {
   "cell_type": "code",
   "execution_count": null,
   "metadata": {},
   "outputs": [],
   "source": [
    "f\"Number oli {number}, pi väärtus on {pi_value}\""
   ]
  },
  {
   "cell_type": "markdown",
   "metadata": {},
   "source": [
    "Tehes koodi kirjutades mingi vea siis Python viskab veateate ja tihti näitab ära kus umbes viga võib asuda."
   ]
  },
  {
   "cell_type": "code",
   "execution_count": null,
   "metadata": {},
   "outputs": [],
   "source": [
    "f\"Number oli {number}, pi väärtus on {pi}\""
   ]
  },
  {
   "cell_type": "markdown",
   "metadata": {},
   "source": [
    "### Tehted\n",
    "Pythonit on võimalik kasutada täiesti tavalise kalkulaatorina:\n"
   ]
  },
  {
   "cell_type": "code",
   "execution_count": null,
   "metadata": {},
   "outputs": [],
   "source": [
    "2 + 2      # Liitmine"
   ]
  },
  {
   "cell_type": "code",
   "execution_count": null,
   "metadata": {},
   "outputs": [],
   "source": [
    "2 - 5      # Lahutamine"
   ]
  },
  {
   "cell_type": "code",
   "execution_count": null,
   "metadata": {},
   "outputs": [],
   "source": [
    "6 * 7      # Korrutamine"
   ]
  },
  {
   "cell_type": "code",
   "execution_count": null,
   "metadata": {},
   "outputs": [],
   "source": [
    "2 ** 16    # Astmesse tõstmine"
   ]
  },
  {
   "cell_type": "code",
   "execution_count": null,
   "metadata": {},
   "outputs": [],
   "source": [
    "13 % 5     # Jääk"
   ]
  },
  {
   "cell_type": "code",
   "execution_count": null,
   "metadata": {},
   "outputs": [],
   "source": [
    "40 / 0"
   ]
  },
  {
   "cell_type": "markdown",
   "metadata": {},
   "source": [
    "On võimalik kasutada võrdlust ja loogilisi tehteid:\n",
    "\n",
    "\n",
    " `<, >, ==, <=, >=` toimivad vastavate matematiliste võrdlustena (väiksem kui, suurem kui, võrdne, väiksem või võrdne kui, suurem või võrdne kui)\n",
    " \n",
    " `and, or, not` toimivad kui loogika tehted"
   ]
  },
  {
   "cell_type": "code",
   "execution_count": null,
   "metadata": {},
   "outputs": [],
   "source": [
    "3 > 4"
   ]
  },
  {
   "cell_type": "code",
   "execution_count": null,
   "metadata": {},
   "outputs": [],
   "source": [
    "5 >= 5"
   ]
  },
  {
   "cell_type": "code",
   "execution_count": null,
   "metadata": {},
   "outputs": [],
   "source": [
    "True and True"
   ]
  },
  {
   "cell_type": "code",
   "execution_count": null,
   "metadata": {},
   "outputs": [],
   "source": [
    "True and False"
   ]
  },
  {
   "cell_type": "markdown",
   "metadata": {},
   "source": [
    "## Tinglaused ja tsükklid"
   ]
  },
  {
   "cell_type": "markdown",
   "metadata": {},
   "source": [
    "https://docs.python.org/3/tutorial/controlflow.html"
   ]
  },
  {
   "cell_type": "markdown",
   "metadata": {},
   "source": [
    "## if-else"
   ]
  },
  {
   "cell_type": "markdown",
   "metadata": {},
   "source": [
    "if-else lauseid koos loogika tehetega saab kasutada teatud tingimustel koodi jooksutamiseks"
   ]
  },
  {
   "cell_type": "code",
   "execution_count": null,
   "metadata": {},
   "outputs": [],
   "source": [
    "n = 10\n",
    "if n > 5:\n",
    "    print(\"Arv on suurem kui viis\")\n",
    "else:\n",
    "    print(\"Arv on väiksem või võrdne viiega\")"
   ]
  },
  {
   "cell_type": "markdown",
   "metadata": {},
   "source": [
    "## Tsükklid\n",
    "\n",
    "Tsükklid on mingi koodi korduvaks jooksutamiseks"
   ]
  },
  {
   "cell_type": "code",
   "execution_count": null,
   "metadata": {},
   "outputs": [],
   "source": [
    "for i in range(1,10):\n",
    "    print(i)"
   ]
  },
  {
   "cell_type": "code",
   "execution_count": null,
   "metadata": {},
   "outputs": [],
   "source": [
    "for i in range(1,10):\n",
    "    if i > 5:\n",
    "        print( f\"Arv {i} on suurem kui viis\" )\n",
    "    else:\n",
    "        print( f\"Arv {i} on väiksem või võrdne viiega\")"
   ]
  },
  {
   "cell_type": "markdown",
   "metadata": {},
   "source": [
    "Siinkohal tasub tähele panna et ridade liigendamine on väga tähtis Pythonis kuna\n",
    "sellega märgistatakse pythonis ühte loogilist koodi blokki. Ühe `for` tsükkli sees\n",
    "jooksutatakse kogu `for`-i all olev liigendatud koodi osa ja `if` ning `else` all\n",
    "jooksutatakse kogu sinna bloki alla liigendatud kood."
   ]
  },
  {
   "cell_type": "markdown",
   "metadata": {},
   "source": [
    "## Järjestatud andmestruktuurid: **List** ja **Tuple**\n",
    "\n",
    "Järjestatud andmestruktuurid Pythonis hoiavad endas kindlas järjekorras olevaid väärtusi/muutujaid. Väärtustele/elementiele neis saab ligi läbi indeksi.\n",
    "\n",
    "Pythonis on kaht tüüpi järjestatud andmestruktuure: **List** ja **Tuple**"
   ]
  },
  {
   "cell_type": "markdown",
   "metadata": {},
   "source": [
    "### List\n",
    "Andmestruktuur mis hoiab kindlas järjekorras elemente. "
   ]
  },
  {
   "cell_type": "code",
   "execution_count": null,
   "metadata": {},
   "outputs": [],
   "source": [
    "numbers = [11, 214, 341, 451, 31, 51, 2, 667]\n",
    "numbers"
   ]
  },
  {
   "cell_type": "markdown",
   "metadata": {},
   "source": [
    "Listi üksikutele elementidele saab ligi läbi index-i. Indekseerimine algab listi puhul 0-ist (mitte 1-st)."
   ]
  },
  {
   "cell_type": "code",
   "execution_count": null,
   "metadata": {},
   "outputs": [],
   "source": [
    "numbers[0]"
   ]
  },
  {
   "cell_type": "markdown",
   "metadata": {},
   "source": [
    "Ligi saab ka lõikudele listist kasutades index-is koolonit:"
   ]
  },
  {
   "cell_type": "code",
   "execution_count": null,
   "metadata": {},
   "outputs": [],
   "source": [
    "numbers[2:5]"
   ]
  },
  {
   "cell_type": "markdown",
   "metadata": {},
   "source": [
    "`for` tsükklit saab kasutada et saada kätte List-ist elemente ükshaaval ja nendega midagi teha"
   ]
  },
  {
   "cell_type": "code",
   "execution_count": null,
   "metadata": {},
   "outputs": [],
   "source": [
    "for num in numbers:\n",
    "    print(num)"
   ]
  },
  {
   "cell_type": "markdown",
   "metadata": {},
   "source": []
  },
  {
   "cell_type": "code",
   "execution_count": null,
   "metadata": {},
   "outputs": [],
   "source": [
    "for num in numbers:\n",
    "    uus_number = 2 ** num\n",
    "    print(uus_number)"
   ]
  },
  {
   "cell_type": "markdown",
   "metadata": {},
   "source": [
    "Listi saab lisada numbreid meetodiga `append`. Meetodid on viis kuida Pythonis suhelda objektidega (näiteks **Listiga**). Meetodeid kasutatakse objektidel lisades punkti objekti nime taha ja seejärel kirjutades meetodi nime:"
   ]
  },
  {
   "cell_type": "code",
   "execution_count": null,
   "metadata": {},
   "outputs": [],
   "source": [
    "numbers.append(4)\n",
    "numbers"
   ]
  },
  {
   "cell_type": "markdown",
   "metadata": {},
   "source": [
    "Et näha milliseid meetodeid on veel olemas sinu kasutataval objektil saab kasutada `help` käsku:"
   ]
  },
  {
   "cell_type": "code",
   "execution_count": null,
   "metadata": {
    "scrolled": true
   },
   "outputs": [],
   "source": [
    "help(numbers)"
   ]
  },
  {
   "cell_type": "markdown",
   "metadata": {},
   "source": [
    "### Tuple\n",
    "\n",
    "Tuple andmestruktuur on väga sarnane **List**-ile selles mõttes et see on samuti järjestatud elementide kogum. Samas kui **List**-ile saab lisada elemente siis **tuple** andmestruktuuri peale esialgset loomist enam muuta ei saa. **Tuple**-it luuakse pannes väärtused komaga eratult sulgude sisse:"
   ]
  },
  {
   "cell_type": "code",
   "execution_count": null,
   "metadata": {
    "collapsed": true
   },
   "outputs": [],
   "source": [
    "a_tuple = (1, 2, 3)\n",
    "v2rvid = ('sinine', 'roheline', 'punane')"
   ]
  },
  {
   "cell_type": "markdown",
   "metadata": {},
   "source": [
    "## Dictonary\n",
    "\n",
    "**Dictionary** on Pythoni andmestruktuur mis hoiab erinevate nimede/võtmete all teisi andmetüüpe/elemente"
   ]
  },
  {
   "cell_type": "code",
   "execution_count": null,
   "metadata": {},
   "outputs": [],
   "source": [
    "translation = {'one': 1, 'two': 2}\n",
    "translation['one']"
   ]
  },
  {
   "cell_type": "markdown",
   "metadata": {},
   "source": [
    "Dictionaryd toimivad sarnaselt *list*-idele kuid elementidele pääsetakse ligi läbi unikaalse võtme."
   ]
  },
  {
   "cell_type": "code",
   "execution_count": null,
   "metadata": {},
   "outputs": [],
   "source": [
    "rev = {1: 'one', 2: 'two'}\n",
    "rev[1]"
   ]
  },
  {
   "cell_type": "markdown",
   "metadata": {},
   "source": [
    "Et lisada uus element *dictionary*-sse siis tuleb see panna sinna kasutades uut võtit index-ina."
   ]
  },
  {
   "cell_type": "code",
   "execution_count": null,
   "metadata": {},
   "outputs": [],
   "source": [
    "rev = {1: 'one', 2: 'two'}\n",
    "rev[3] = 'three'\n",
    "rev"
   ]
  },
  {
   "cell_type": "markdown",
   "metadata": {},
   "source": [
    "`for` tsükklit saab kasutada *dictionary* elementidele ligisaamiseks kas läbi `.items()` meetodi mis tagastab for tsükkli jaoks nii võtme kui elemendi:"
   ]
  },
  {
   "cell_type": "code",
   "execution_count": null,
   "metadata": {},
   "outputs": [],
   "source": [
    "for key, value in rev.items():\n",
    "    print(key, '->', value)"
   ]
  },
  {
   "cell_type": "markdown",
   "metadata": {},
   "source": [
    "või läbi `.keys()` meetodi mis tagastab ainult võtmed millega siis saab ligi *dictionary*-s olevatele väärtustele:"
   ]
  },
  {
   "cell_type": "code",
   "execution_count": null,
   "metadata": {},
   "outputs": [],
   "source": [
    "for key in rev.keys():\n",
    "    print(key, '->', rev[key])"
   ]
  },
  {
   "cell_type": "markdown",
   "metadata": {},
   "source": [
    "On väga tähtis ära märkida et *dictionary*-d on järjestamata. St läbi for tsükkli ei saa sa olla kindel et elementide järjekord on alati samasugune."
   ]
  },
  {
   "cell_type": "markdown",
   "metadata": {},
   "source": [
    "## Funktsioonid\n",
    "\n",
    "https://docs.python.org/3/tutorial/controlflow.html#defining-functions"
   ]
  },
  {
   "cell_type": "markdown",
   "metadata": {},
   "source": [
    "Et defineerida funktsioone Pythonis tuleb kasutada `def` funktsiooni tähistust. Funktsioon võib võtta argumente ja tagastada tagastada mingi tulemuse (aga ei pea tegema kumbagi...)\n"
   ]
  },
  {
   "cell_type": "markdown",
   "metadata": {},
   "source": [
    "Funktsiooni puhul:\n",
    "* definitsioon algab `def`-iga\n",
    "* funktsiooni kood on jällegi taandreaga kogu funktsiooni ulatuses\n",
    "* `return` sõnaga saab tagastada funktsioonist väärtuse"
   ]
  },
  {
   "cell_type": "code",
   "execution_count": null,
   "metadata": {},
   "outputs": [],
   "source": [
    "def add_function(a, b):\n",
    "    result = a + b\n",
    "    return result\n",
    "\n",
    "z = add_function(20, 22)\n",
    "print(z)"
   ]
  },
  {
   "cell_type": "markdown",
   "metadata": {
    "collapsed": true
   },
   "source": [
    "# Viited\n",
    "\n",
    "1. [Python 3.6 tutorial](https://docs.python.org/3/tutorial/)\n",
    "2. [A Very Short Introduction to Python](http://www.scipy-lectures.org/language/python_language.html)\n",
    "3. [Code Academy Python Course](https://www.codecademy.com/learn/learn-python) \n",
    "    * Siit pole vaja läbida üldiselt kogu kursust. Piisab kui endale paremaks arusaamiseks teha selgeks osad 1. (Python Syntax) - 8. (Loops)"
   ]
  },
  {
   "cell_type": "code",
   "execution_count": null,
   "metadata": {
    "collapsed": true
   },
   "outputs": [],
   "source": []
  }
 ],
 "metadata": {
  "kernelspec": {
   "display_name": "Python 3",
   "language": "python",
   "name": "python3"
  },
  "language_info": {
   "codemirror_mode": {
    "name": "ipython",
    "version": 3
   },
   "file_extension": ".py",
   "mimetype": "text/x-python",
   "name": "python",
   "nbconvert_exporter": "python",
   "pygments_lexer": "ipython3",
   "version": "3.6.1"
  }
 },
 "nbformat": 4,
 "nbformat_minor": 2
}
